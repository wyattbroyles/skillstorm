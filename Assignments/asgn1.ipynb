{
 "cells": [
  {
   "cell_type": "code",
   "execution_count": 16,
   "metadata": {},
   "outputs": [
    {
     "name": "stdout",
     "output_type": "stream",
     "text": [
      "2024-06-17\n",
      "My next birthday will be in 11 days!\n"
     ]
    }
   ],
   "source": [
    "#Excercise 1\n",
    "#Excercise 1: Working with Dates & Times\n",
    "#Get the current date and time.\n",
    "#Format the date as YYYY-MM-DD.\n",
    "#Calculate the number of days until your next birthday.\n",
    "\n",
    "import datetime\n",
    "import time\n",
    "now = datetime.datetime.now()\n",
    "print(now.strftime(\"%Y-%m-%d\"))\n",
    "next_birthday = \"2024-06-28\"\n",
    "birthday_object = datetime.datetime.strptime(next_birthday, \"%Y-%m-%d\")\n",
    "day_1 = int(birthday_object.strftime(\"%j\"))\n",
    "day_2 = int(now.strftime('%j'))\n",
    "days_away = day_1 - day_2\n",
    "print(\"My birthday will be in\", days_away, \"days!\")\n",
    "\n",
    "\n"
   ]
  },
  {
   "cell_type": "code",
   "execution_count": 28,
   "metadata": {},
   "outputs": [
    {
     "name": "stdout",
     "output_type": "stream",
     "text": [
      "{'Student1': {'name': 'James', 'gpa': '3.8'}, 'Student2': {'name': 'Sarah', 'gpa': '4.0'}, 'Student3': {'name': 'Peyton', 'gpa': '3.5'}}\n",
      "{'Student1': {'name': 'James', 'gpa': '3.8'}, 'Student2': {'name': 'Sarah', 'gpa': '4.0'}, 'Student3': {'name': 'Peyton', 'gpa': '3.5'}, 'Student4': {'name': 'Steve', 'gpa': '2.9'}}\n",
      "{'Student1': {'name': 'James', 'class': 'Math 101'}, 'Student2': {'name': 'Sarah', 'class': 'Biology 202'}, 'Student3': {'name': 'Peyton', 'class': 'History 303'}, 'Student4': {'name': 'Steve', 'gpa': '2.9'}}\n",
      "{'James', 'Peyton', 'Sarah'}\n"
     ]
    }
   ],
   "source": [
    "#Excercise 2\n",
    "#Exercise 2: Dictionaries and Sets\n",
    "#Create a Dictionary of 3 Students and their grades.\n",
    "# Add a fourth student to the dictionary.\n",
    "#Change the value of each student to another dictionary of their #classes.\n",
    "# Add all names of the students to a set.\n",
    "\n",
    "student_dict = {\n",
    "    \"Student1\": \n",
    "    {\n",
    "        \"name\" : \"James\",\n",
    "        \"gpa\" : \"3.8\"\n",
    "    },\n",
    "    \"Student2\": \n",
    "    {\n",
    "        \"name\" : \"Sarah\",\n",
    "        \"gpa\" : \"4.0\"\n",
    "    },\n",
    "    \"Student3\": \n",
    "    {\n",
    "        \"name\" : \"Peyton\",\n",
    "        \"gpa\" : \"3.5\"\n",
    "    }\n",
    "}\n",
    "\n",
    "print(student_dict)\n",
    "student_dict.update({'Student4': {\"name\" : \"Steve\", \"gpa\" : \"2.9\"}})\n",
    "print(student_dict)\n",
    "class_info = {\n",
    "    \"Student1\": {\"class\": \"Math 101\"},\n",
    "    \"Student2\": {\"class\": \"Biology 202\"},\n",
    "    \"Student3\": {\"class\": \"History 303\"}\n",
    "}\n",
    "\n",
    "name_set = set()\n",
    "\n",
    "for student, info in student_dict.items():\n",
    "    if student in class_info:\n",
    "        info.pop(\"gpa\", None)  \n",
    "        info.update(class_info[student]) \n",
    "        name_set.add(info[\"name\"])\n",
    "\n",
    "print(student_dict)\n",
    "print(name_set)"
   ]
  },
  {
   "cell_type": "code",
   "execution_count": 37,
   "metadata": {},
   "outputs": [
    {
     "name": "stdout",
     "output_type": "stream",
     "text": [
      "['Hello', 'World!']\n",
      "This|string|rocks\n",
      "This|string|rocks\n",
      "E was found 9 times\n"
     ]
    }
   ],
   "source": [
    "#Excersice 3\n",
    "#Exercise 3: Advanced String Operations\n",
    "#Split a string into a list of words.\n",
    "#Join a list of words into a single string with pipes separating them.\n",
    "#Count the number of occurrences of a character in a string.\n",
    "\n",
    "my_string = \"Hello World!\"\n",
    "print(my_string.split())\n",
    "\n",
    "#how i originally did it\n",
    "str1 = \"This\"\n",
    "str2 = \"string\"\n",
    "str3 = \"rocks\"\n",
    "print(f\"{str1}|{str2}|{str3}\")\n",
    "\n",
    "#the better way\n",
    "strings = [\"This\", \"string\", \"rocks\"]\n",
    "result = \"|\".join(strings)\n",
    "print(result) \n",
    "\n",
    "\n",
    "my_string2 = \"eeeeeeeeeiiiiiiioooouuuu\"\n",
    "count = 0\n",
    "for char in my_string2:\n",
    "    if(char == 'e'):\n",
    "        count+=1\n",
    "print(\"E was found\", count, \"times\")\n"
   ]
  },
  {
   "cell_type": "code",
   "execution_count": 40,
   "metadata": {},
   "outputs": [
    {
     "name": "stdout",
     "output_type": "stream",
     "text": [
      "[1, 3, 4, 2]\n",
      "[3, 4, 2]\n",
      "[2, 3, 4]\n"
     ]
    }
   ],
   "source": [
    "#Excercise 4\n",
    "#Exercise 4: Lists and Basic Operations\n",
    "#Create a list of integers.\n",
    "#Append an integer to the list.\n",
    "#Remove an integer from the list.\n",
    "#Sort the list in ascending order.\n",
    "\n",
    "my_list = [1, 3, 4]\n",
    "my_list.append(2)\n",
    "print(my_list)\n",
    "my_list.remove(1)\n",
    "print(my_list)\n",
    "my_list.sort()\n",
    "print(my_list)"
   ]
  }
 ],
 "metadata": {
  "kernelspec": {
   "display_name": "Python 3",
   "language": "python",
   "name": "python3"
  },
  "language_info": {
   "codemirror_mode": {
    "name": "ipython",
    "version": 3
   },
   "file_extension": ".py",
   "mimetype": "text/x-python",
   "name": "python",
   "nbconvert_exporter": "python",
   "pygments_lexer": "ipython3",
   "version": "3.9.6"
  }
 },
 "nbformat": 4,
 "nbformat_minor": 2
}
