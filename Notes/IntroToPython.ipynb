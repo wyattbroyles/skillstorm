{
 "cells": [
  {
   "cell_type": "code",
   "execution_count": null,
   "metadata": {},
   "outputs": [],
   "source": [
    "# Int, String, Float, Boolean, Char, Complex\n",
    "# in python, float = double as far as decimal precision\n",
    "#float, int, and complex are the only commonnumeric types\n",
    "\n",
    "x = \"Hey\"\n",
    "y = 'String 2'\n",
    "string_var = \"Im in a variable\"\n",
    "print(\"This is a string\")\n",
    "print(string_var)\n",
    "\n",
    "string_var1 = \"\"\"\n",
    "hey\n",
    "hey\n",
    "\"\"\""
   ]
  },
  {
   "cell_type": "code",
   "execution_count": null,
   "metadata": {},
   "outputs": [],
   "source": [
    "int_var = 4\n",
    "float_var = 4.521\n",
    "complex_var = 3 + 3j\n",
    "\n",
    "print(int_var + float_var) #will cast int to float"
   ]
  },
  {
   "cell_type": "code",
   "execution_count": null,
   "metadata": {},
   "outputs": [],
   "source": [
    "x = 20\n",
    "y = 20\n",
    "\n",
    "print(x+y)\n",
    "print(x**y) # power to\n",
    "print(x % y)"
   ]
  },
  {
   "cell_type": "code",
   "execution_count": null,
   "metadata": {},
   "outputs": [],
   "source": [
    "x = 38473883\n",
    "\n",
    "if(x%2 == 0):\n",
    "    print(\"even\")\n",
    "\n",
    "else: \n",
    "    print(\"odd\")"
   ]
  },
  {
   "cell_type": "code",
   "execution_count": null,
   "metadata": {},
   "outputs": [],
   "source": [
    "#COLLECTIONS\n",
    "#List, Dictionary, Set, Trees, Tuple"
   ]
  },
  {
   "cell_type": "code",
   "execution_count": null,
   "metadata": {},
   "outputs": [],
   "source": [
    "#Casting variables\n",
    "x = int(2.8) #will always round down\n",
    "print(type(x))\n"
   ]
  },
  {
   "cell_type": "code",
   "execution_count": null,
   "metadata": {},
   "outputs": [],
   "source": [
    "#CLASS\n",
    "class Animal:\n",
    "    def __init__(self, age, name):\n",
    "        age = 0\n",
    "        name = \"Default\"\n",
    "\n",
    "    if __name__ == \"__main__\":\n"
   ]
  }
 ],
 "metadata": {
  "language_info": {
   "name": "python"
  }
 },
 "nbformat": 4,
 "nbformat_minor": 2
}
