{
 "cells": [
  {
   "cell_type": "code",
   "execution_count": 1,
   "metadata": {},
   "outputs": [
    {
     "name": "stdout",
     "output_type": "stream",
     "text": [
      "c:\\Users\\wyatt\\Documents\\SkillStorm\\skillstorm\\Notes\n"
     ]
    }
   ],
   "source": [
    "# We can interact directly with our Operating System through python\n",
    "import os\n",
    "\n",
    "cwd = os.getcwd() #gets current path\n",
    "print(cwd) "
   ]
  },
  {
   "cell_type": "code",
   "execution_count": null,
   "metadata": {},
   "outputs": [],
   "source": [
    "new_dir = \"c:\\\\Users\\\\wyatt\\\\Documents\\\\SkillStorm\\\\Test\"\n",
    "os.chdir(new_dir)\n",
    "\n",
    "cwd = os.getcwd()\n",
    "print(cwd)"
   ]
  },
  {
   "cell_type": "code",
   "execution_count": null,
   "metadata": {},
   "outputs": [],
   "source": [
    "# we can create new directories\n",
    "#cannot nest directories with mkdir\n",
    "base_path = \"c:\\\\\"\n",
    "new_dire = \"/demo\"\n",
    "\n",
    "os.mkdir(base_path + new_dire)\n",
    "\n",
    "example_dir = os.path.join(path_1, path_2) #will throw an error if base path is not found\n",
    "\n"
   ]
  },
  {
   "cell_type": "code",
   "execution_count": null,
   "metadata": {},
   "outputs": [],
   "source": [
    "# we can nest the directories if we ust the makedirs command\n",
    "\n",
    "os.makedirs(base + new)"
   ]
  },
  {
   "cell_type": "code",
   "execution_count": 2,
   "metadata": {},
   "outputs": [
    {
     "name": "stdout",
     "output_type": "stream",
     "text": [
      "['$Recycle.Bin', '$WinREAgent', '.GamingRoot', 'Documents and Settings', 'DumpStack.log.tmp', 'hiberfil.sys', 'MSI', 'mylog.log', 'OneDriveTemp', 'pagefile.sys', 'PerfLogs', 'Program Files', 'Program Files (x86)', 'ProgramData', 'Recovery', 'RHDSetup.log', 'swapfile.sys', 'System Volume Information', 'Users', 'Windows', 'XboxGames']\n"
     ]
    }
   ],
   "source": [
    "# if we need all of our directories in a list\n",
    "\n",
    "root = '/' # cd /\n",
    "dirs = os.listdir(root)\n",
    "print(dirs)"
   ]
  },
  {
   "cell_type": "code",
   "execution_count": null,
   "metadata": {},
   "outputs": [],
   "source": [
    "#can remove nested dirs as long as they are all empty\n",
    "os.rmdir()\n",
    "#remove files from folders\n",
    "os.remove(file_path)"
   ]
  },
  {
   "cell_type": "code",
   "execution_count": 3,
   "metadata": {},
   "outputs": [
    {
     "name": "stdout",
     "output_type": "stream",
     "text": [
      "c:\\Users\\wyatt\\Documents\\SkillStorm\\skillstorm\\Notes\n",
      "[]\n",
      "['Collections.ipynb', 'DateTime.ipynb', 'ErrorHandling.ipynb', 'FileOperations.ipynb', 'IntroToPython.ipynb', 'OS.ipynb', 'StringOps.ipynb']\n"
     ]
    }
   ],
   "source": [
    "# we can read multiple files and directories\n",
    "\n",
    "for root, dirs, files in os.walk(os.getcwd()):\n",
    "    print(root)\n",
    "    print(dirs)\n",
    "    print(files)"
   ]
  },
  {
   "cell_type": "code",
   "execution_count": null,
   "metadata": {},
   "outputs": [],
   "source": [
    "\n"
   ]
  },
  {
   "cell_type": "code",
   "execution_count": null,
   "metadata": {},
   "outputs": [],
   "source": []
  }
 ],
 "metadata": {
  "kernelspec": {
   "display_name": "Python 3",
   "language": "python",
   "name": "python3"
  },
  "language_info": {
   "codemirror_mode": {
    "name": "ipython",
    "version": 3
   },
   "file_extension": ".py",
   "mimetype": "text/x-python",
   "name": "python",
   "nbconvert_exporter": "python",
   "pygments_lexer": "ipython3",
   "version": "3.10.5"
  }
 },
 "nbformat": 4,
 "nbformat_minor": 2
}
