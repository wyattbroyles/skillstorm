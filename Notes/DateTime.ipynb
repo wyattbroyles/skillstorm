{
 "cells": [
  {
   "cell_type": "code",
   "execution_count": null,
   "metadata": {},
   "outputs": [],
   "source": [
    "#Date time module\n",
    "from datetime import datetime #would only give us datetime class\n",
    "import datetime #help us create DateTime objects\n",
    "#Extremely limited support for timezones\n",
    "\n",
    "#formatting: year, month, day, hour, minute, second, microsecond\n",
    "\n",
    "print(datetime.datetime.now())\n",
    "print(datetime.date.today())\n",
    "print(type(datetime.date.today()))\n",
    "\n",
    "now = datetime.datetime.now()\n",
    "print(now.strftime('%a'))"
   ]
  },
  {
   "cell_type": "code",
   "execution_count": null,
   "metadata": {},
   "outputs": [],
   "source": [
    "date = \"2024-06-17\"\n",
    "date_object = datetime.datetime.strptime(date, \"%Y-%m-%d\")\n",
    "print(date_object)"
   ]
  },
  {
   "cell_type": "code",
   "execution_count": null,
   "metadata": {},
   "outputs": [],
   "source": [
    "import time\n",
    "#Unix time\n",
    "print(time.time()) #num of seconds since 1-1-1970 UTC"
   ]
  }
 ],
 "metadata": {
  "language_info": {
   "name": "python"
  }
 },
 "nbformat": 4,
 "nbformat_minor": 2
}
