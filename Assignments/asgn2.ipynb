{
 "cells": [
  {
   "cell_type": "markdown",
   "metadata": {},
   "source": [
    "Excercise 1: String Validator\n",
    "Write a function that takes in an input from the user and runs a string validation check on it. The output should be as follows.\n",
    "\n",
    "On the first line, print True if has any alphanumeric characters. Otherwise, print False.\n",
    "On the second line, print True if has any alphabetical characters. Otherwise, print False.\n",
    "On the third line, print True if has any digits. Otherwise, print False.\n",
    "On the fourth line, print True if has any lowercase characters. Otherwise, print False.\n",
    "On the fifth line, print True if has any uppercase characters. Otherwise, print False.\n",
    "Hint: Try looking at the built in string methods"
   ]
  },
  {
   "cell_type": "code",
   "execution_count": 15,
   "metadata": {},
   "outputs": [
    {
     "name": "stdout",
     "output_type": "stream",
     "text": [
      "<re.Match object; span=(0, 1), match='a'>\n",
      "<re.Match object; span=(0, 1), match='a'>\n",
      "None\n",
      "<re.Match object; span=(0, 1), match='a'>\n",
      "None\n",
      "True\n",
      "True\n",
      "False\n",
      "True\n",
      "False\n"
     ]
    }
   ],
   "source": [
    "import re\n",
    "\n",
    "def string_check(str: str):\n",
    "    match = re.search(r\"\\w\", str)\n",
    "    match2 = re.search(r\"[a-zA-Z]\", str)\n",
    "    match3 = re.search(r\"\\d\", str)\n",
    "    match4 = re.search(r\"[a-z]\", str)\n",
    "    match5 = re.search(r\"\\[A-Z]\", str)\n",
    "    print(match)\n",
    "    print(match2)\n",
    "    print(match3)\n",
    "    print(match4)\n",
    "    print(match5)\n",
    "    if(match is not None):\n",
    "        print(\"True\")\n",
    "    else: print(\"False\")\n",
    "    \n",
    "    if(match2 is not None):\n",
    "        print(\"True\")\n",
    "    else: print(\"False\")\n",
    "    \n",
    "    if(match3 is not None):\n",
    "        print(\"True\")\n",
    "    else: print(\"False\")\n",
    "    \n",
    "    if(match4 is not None):\n",
    "        print(\"True\")\n",
    "    else: print(\"False\")\n",
    "    \n",
    "    if(match5 is not None):\n",
    "        print(\"True\")\n",
    "    else: print(\"False\")\n",
    "\n",
    "string_check(\"a\")\n"
   ]
  },
  {
   "cell_type": "markdown",
   "metadata": {},
   "source": [
    "Excercise 2: Regular Expressions\n",
    "Build regular expressions that matches patterns with the following constraints:\n",
    "\n",
    "Any word at the begging of a string\n",
    "Any time that the character after a whitespace is a digit\n",
    "any word with punctuation at the end of a string\n",
    "any occurances of consecutive digits 1,2, or 3\n",
    "any word with double letters (i.e. letter, filler, skill, parrot)"
   ]
  },
  {
   "cell_type": "code",
   "execution_count": 93,
   "metadata": {},
   "outputs": [
    {
     "name": "stdout",
     "output_type": "stream",
     "text": [
      "['Hey', 'th4er2e', 'buddy', '575', 'e5', '7', '1AA23', '112', '111', '223', '222', '333', '11', '22', '33', '231']\n",
      "[' 5', ' 7', ' 1', ' 1', ' 1', ' 2', ' 2', ' 3', ' 1', ' 2', ' 3', ' 2']\n",
      "[]\n",
      "['23', '112', '111', '223', '222', '333', '11', '22', '33', '231']\n",
      "['A']\n"
     ]
    }
   ],
   "source": [
    "import re\n",
    "string = \"Hey th4er2e buddy 575 e5 7!. 1AA23 112 111 223 222 333 11 22 33 231\"\n",
    "\n",
    "word_list = re.findall(r\"\\w+\", string)\n",
    "print(word_list)\n",
    "word_list2 = re.findall(r\" \\d\", string)\n",
    "print(word_list2)\n",
    "word_list3 = re.findall(r\"[!.?]$\", string)\n",
    "print(word_list3)\n",
    "word_list4 = re.findall(r\"[123]{2,}\", string)\n",
    "print(word_list4)\n",
    "word_list5 = re.findall(r\"\\b.*([a-zA-Z])\\1.*\\b\", string)\n",
    "print(word_list5)"
   ]
  },
  {
   "cell_type": "markdown",
   "metadata": {},
   "source": [
    "Excercise 3: Word Count\n",
    "Get an accurate word count of the Pride and Prejudice text starting from the first word of Chapter 1.\n"
   ]
  },
  {
   "cell_type": "code",
   "execution_count": 101,
   "metadata": {},
   "outputs": [
    {
     "name": "stdout",
     "output_type": "stream",
     "text": [
      "125961\n"
     ]
    }
   ],
   "source": [
    "file_path = \"../Etc/Pride_and_Prejudice.txt\"\n",
    "\n",
    "with open(file = file_path, mode = 'rt', encoding = 'utf-8') as f:\n",
    "    f.seek(1991)\n",
    "    book = f.read()\n",
    "word_list = re.findall(r\"\\w+\", book) \n",
    "count = len(word_list)\n",
    "print(count)"
   ]
  },
  {
   "cell_type": "markdown",
   "metadata": {},
   "source": [
    "Excercise 4: Word Score\n",
    "Write a function two take in n words and returns a single integer of their combined score.\n",
    "\n",
    "A word is worth 1 point if it has an odd number of vowels\n",
    "A word is worth 2 points if it has an even number of vowels\n",
    "Output should be the summed total of all scores of the words\n",
    "For the purposes of this excercise vowels will consist of [a,e,i,o,u,y]\n",
    "Example Input: \"programming is awesome\" Example Output: 4\n",
    "\n",
    "Programming = 1 for 3 vowels; is = 1 for 1 vowel; awesome = 2 for 4 vowels\n",
    "1 + 1 + 2 = 4"
   ]
  },
  {
   "cell_type": "code",
   "execution_count": 124,
   "metadata": {},
   "outputs": [
    {
     "data": {
      "text/plain": [
       "4"
      ]
     },
     "execution_count": 124,
     "metadata": {},
     "output_type": "execute_result"
    }
   ],
   "source": [
    "def vowelGame(*words) -> int:\n",
    "    points = 0\n",
    "    \n",
    "    for word in words:\n",
    "        count = 0\n",
    "        for char in word:\n",
    "            if char in 'oaieuy':\n",
    "                count += 1\n",
    "        \n",
    "        if count % 2 == 0:\n",
    "            points += 2\n",
    "        else:\n",
    "            points += 1\n",
    "            \n",
    "    return points\n",
    "\n",
    "vowelGame(\"programming\", \"is\", \"cool\")\n"
   ]
  }
 ],
 "metadata": {
  "kernelspec": {
   "display_name": "Python 3",
   "language": "python",
   "name": "python3"
  },
  "language_info": {
   "codemirror_mode": {
    "name": "ipython",
    "version": 3
   },
   "file_extension": ".py",
   "mimetype": "text/x-python",
   "name": "python",
   "nbconvert_exporter": "python",
   "pygments_lexer": "ipython3",
   "version": "3.10.5"
  }
 },
 "nbformat": 4,
 "nbformat_minor": 2
}
