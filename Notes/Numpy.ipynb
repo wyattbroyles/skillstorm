{
 "cells": [
  {
   "cell_type": "code",
   "execution_count": 1,
   "metadata": {},
   "outputs": [],
   "source": [
    "#Numpy\n",
    "#Numpy is what is happening in the background pandas\n",
    "#Built on C++\n",
    "#We could potentially do everything we are about to do ourselves\n",
    "#But that would be incredibly inefficient and take a lot of time"
   ]
  },
  {
   "cell_type": "code",
   "execution_count": null,
   "metadata": {},
   "outputs": [],
   "source": [
    "#Numpy 50-100X faster and efficient than python\n",
    "#Arrays, C++ Arrays = Contiguous memory, optimized searches\n",
    "#Lists in python, can contain multiple types, and are not \"Arrays\"\n",
    "# Numpy Arrays are all one data type, and it is stores in an nd-array"
   ]
  },
  {
   "cell_type": "code",
   "execution_count": 2,
   "metadata": {},
   "outputs": [
    {
     "name": "stdout",
     "output_type": "stream",
     "text": [
      "2.0.0\n"
     ]
    }
   ],
   "source": [
    "#Let's start using it\n",
    "import numpy as np\n",
    "print(np.__version__)"
   ]
  },
  {
   "cell_type": "code",
   "execution_count": 4,
   "metadata": {},
   "outputs": [
    {
     "name": "stdout",
     "output_type": "stream",
     "text": [
      "[1 2 3 4 5]\n"
     ]
    }
   ],
   "source": [
    "# Creating an array\n",
    "\n",
    "arr = np.array([1, 2, 3, 4, 5])\n",
    "list = [1, 2, 3, 4, 5]\n",
    "print(list)\n",
    "#arr - prints arr\n",
    "print(arr)"
   ]
  },
  {
   "cell_type": "code",
   "execution_count": 10,
   "metadata": {},
   "outputs": [
    {
     "name": "stdout",
     "output_type": "stream",
     "text": [
      "0 1 2 3\n"
     ]
    }
   ],
   "source": [
    "# Dimensions - n-dimensional array\n",
    "#0-3D arrays\n",
    "# 0D Array AKA a Scalar\n",
    "zero_arr = np.array(42)\n",
    "zero_arr\n",
    "\n",
    "#ID Array AKA a Array\n",
    "one_arr = np.array([1, 2, 3, 4, 5])\n",
    "one_arr\n",
    "\n",
    "#2D array aka a matrix\n",
    "two_arr = np.array([[1, 2, 3], [4, 5, 6]])\n",
    "two_arr\n",
    "\n",
    "#3D array AKA a Tensor\n",
    "three_arr = np.array([[[1, 2, 3],[4, 5, 6]],[[7, 8, 9],[10, 11, 12]]])\n",
    "#rows are innermost arrays\n",
    "#outer arrays are columns\n",
    "three_arr\n",
    "\n",
    "print(zero_arr.ndim, one_arr.ndim, two_arr.ndim, three_arr.ndim)"
   ]
  },
  {
   "cell_type": "code",
   "execution_count": 13,
   "metadata": {},
   "outputs": [
    {
     "name": "stdout",
     "output_type": "stream",
     "text": [
      "2\n",
      "2\n",
      "6\n"
     ]
    }
   ],
   "source": [
    "#Indexing into our nd arrays\n",
    "#Python indexing - do not do this\n",
    "print(two_arr[0][1])\n",
    "\n",
    "#Numpy indexing\n",
    "print(two_arr[0, 1]) #using c lookups instead of python lookups\n",
    "\n",
    "print(three_arr[0, 1, 2])"
   ]
  },
  {
   "cell_type": "code",
   "execution_count": 18,
   "metadata": {},
   "outputs": [
    {
     "name": "stdout",
     "output_type": "stream",
     "text": [
      "float32\n",
      "float32\n"
     ]
    },
    {
     "data": {
      "text/plain": [
       "array([b'1.0', b'2.0', b'3.0', b'4.0', b'5.0'], dtype='|S32')"
      ]
     },
     "execution_count": 18,
     "metadata": {},
     "output_type": "execute_result"
    }
   ],
   "source": [
    "#Numpy arrays are a single data type\n",
    "#Numpy has its own data types\n",
    "# i - integers up int64\n",
    "# b - boolean\n",
    "# u - unsigned ints\n",
    "# f - float - float128\n",
    "# c - complex\n",
    "# m - timedelta\n",
    "# M - datetime\n",
    "# O - object\n",
    "# S - string\n",
    "# U - unicode strings\n",
    "# V - void type -- fixed chunk of memory that is reserved\n",
    "\n",
    "print(arr.dtype)\n",
    "\n",
    "arr = np.array([1, 2, 3, 4, 5], dtype='f') #enforced type saftey\n",
    "print(arr.dtype)\n",
    "new_arr = arr.astype('S')\n",
    "new_arr"
   ]
  },
  {
   "cell_type": "code",
   "execution_count": 20,
   "metadata": {},
   "outputs": [
    {
     "name": "stdout",
     "output_type": "stream",
     "text": [
      "(5,)\n",
      "(2, 3)\n"
     ]
    }
   ],
   "source": [
    "# Checking our matrixes shape\n",
    "\n",
    "print(arr.shape)\n",
    "print(two_arr.shape) # 2 rows, 3 columns\n",
    "print(three_arr.shape) # 2 rows, 2 columns, 3 depth"
   ]
  },
  {
   "cell_type": "code",
   "execution_count": 25,
   "metadata": {},
   "outputs": [
    {
     "name": "stdout",
     "output_type": "stream",
     "text": [
      "[ 1  2  3  4  5  6  7  8  9 10 11 12]\n",
      "[[ 1  2  3]\n",
      " [ 4  5  6]\n",
      " [ 7  8  9]\n",
      " [10 11 12]]\n"
     ]
    }
   ],
   "source": [
    "#Reshape arrays\n",
    "\n",
    "arr = np.array([1, 2, 3, 4, 5, 6, 7, 8, 9, 10, 11, 12])\n",
    "print(arr)\n",
    "new_arrr = arr.reshape(4, 3)\n",
    "print(new_arrr)"
   ]
  },
  {
   "cell_type": "code",
   "execution_count": 30,
   "metadata": {},
   "outputs": [
    {
     "name": "stdout",
     "output_type": "stream",
     "text": [
      "[[ 1  2  3]\n",
      " [ 4  5  6]\n",
      " [ 7  8  9]\n",
      " [10 11 12]]\n"
     ]
    }
   ],
   "source": [
    "#If we do not know our full dimensions we can substitute in a -1\n",
    "\n",
    "new_arrr = arr.reshape(-1, 3)\n",
    "print(new_arrr)"
   ]
  },
  {
   "cell_type": "code",
   "execution_count": 31,
   "metadata": {},
   "outputs": [
    {
     "name": "stdout",
     "output_type": "stream",
     "text": [
      "[ 1  2  3  4  5  6  7  8  9 10 11 12]\n"
     ]
    }
   ],
   "source": [
    "# to flatten our arrays\n",
    "\n",
    "arr = new_arrr.reshape(-1)\n",
    "print(arr)"
   ]
  },
  {
   "cell_type": "code",
   "execution_count": 33,
   "metadata": {},
   "outputs": [
    {
     "name": "stdout",
     "output_type": "stream",
     "text": [
      "[[1 2 3]\n",
      " [4 5 6]]\n",
      "[[ 7  8  9]\n",
      " [10 11 12]]\n",
      "1\n",
      "2\n",
      "3\n",
      "4\n",
      "5\n",
      "6\n",
      "7\n",
      "8\n",
      "9\n",
      "10\n",
      "11\n",
      "12\n"
     ]
    }
   ],
   "source": [
    "#Iterating through arrays\n",
    "\n",
    "for x in three_arr:\n",
    "    print(x)\n",
    "    \n",
    "for x in np.nditer(three_arr):\n",
    "    print(x)"
   ]
  },
  {
   "cell_type": "code",
   "execution_count": 37,
   "metadata": {},
   "outputs": [
    {
     "name": "stdout",
     "output_type": "stream",
     "text": [
      "[[1 2]\n",
      " [3 4]\n",
      " [5 6]\n",
      " [7 8]]\n"
     ]
    }
   ],
   "source": [
    "#Joining arrays\n",
    "# join based on axis\n",
    "# axis = 0 is based on rows, axis = 1 is based on columns\n",
    "\n",
    "arr1 = np.array([[1,2], [3,4]])\n",
    "arr2 = np.array([[5,6], [7,8]])\n",
    "arr = np.concatenate((arr1, arr2), axis = 0)\n",
    "print(arr)"
   ]
  },
  {
   "cell_type": "code",
   "execution_count": 36,
   "metadata": {},
   "outputs": [
    {
     "name": "stdout",
     "output_type": "stream",
     "text": [
      "[[1 2 5 6]\n",
      " [3 4 7 8]]\n"
     ]
    }
   ],
   "source": [
    "# Join based off of columns\n",
    "\n",
    "arr = np.concatenate((arr1, arr2), axis = 1)\n",
    "print(arr)"
   ]
  },
  {
   "cell_type": "code",
   "execution_count": null,
   "metadata": {},
   "outputs": [],
   "source": [
    "#stacking\n",
    "# Stack(), hstack(), dstack()\n",
    "\n",
    "arr1 = np.array([1,2, 3,4])\n",
    "arr2 = np.array([5,6, 7,8])\n",
    "\n",
    "arr = np.Stack(arr1, arr2)\n",
    "arr = np.hstack(arr1, arr2) #horizontally\n",
    "arr = np.dstack(arr1, arr2) #depth\n"
   ]
  },
  {
   "cell_type": "code",
   "execution_count": 38,
   "metadata": {},
   "outputs": [
    {
     "name": "stdout",
     "output_type": "stream",
     "text": [
      "[array([1, 2]), array([3, 4]), array([5, 6])]\n"
     ]
    }
   ],
   "source": [
    "# split array into n number of parts\n",
    "\n",
    "arr = np.array([1, 2,3 , 4, 5, 6])\n",
    "new_arr = np.array_split(arr, 3)\n",
    "print(new_arr)"
   ]
  },
  {
   "cell_type": "code",
   "execution_count": null,
   "metadata": {},
   "outputs": [],
   "source": [
    "# Searching our arrays is done with the where() method\n",
    "\n",
    "arr = np.array([1, 2, 3, 4, 5, 6])\n",
    "x = np.where(arr == 4)\n",
    "print(x)"
   ]
  },
  {
   "cell_type": "code",
   "execution_count": 39,
   "metadata": {},
   "outputs": [
    {
     "name": "stdout",
     "output_type": "stream",
     "text": [
      "5\n"
     ]
    }
   ],
   "source": [
    " #Searchsorted() --binary search that returns index \n",
    " #only works if array is sorted\n",
    " \n",
    "arr = np.array([1, 2, 3, 4, 5, 6])\n",
    "x = np.searchsorted(arr, 6)\n",
    "print(x)"
   ]
  },
  {
   "cell_type": "code",
   "execution_count": 40,
   "metadata": {},
   "outputs": [
    {
     "name": "stdout",
     "output_type": "stream",
     "text": [
      "[[1 2 5]\n",
      " [3 6 9]]\n"
     ]
    }
   ],
   "source": [
    "# sorting arrays\n",
    "# can still use the python sort() method\n",
    "# np.sort()\n",
    "\n",
    "arr = np.array([[5,2,1], [6,3,9]])\n",
    "print(np.sort(arr))"
   ]
  },
  {
   "cell_type": "code",
   "execution_count": 41,
   "metadata": {},
   "outputs": [
    {
     "name": "stdout",
     "output_type": "stream",
     "text": [
      "[ 41 430]\n"
     ]
    }
   ],
   "source": [
    "#filtering our arrays\n",
    "#filter based off a condition\n",
    "#or we can use a boolean array\n",
    "\n",
    "arr = np.array([40, 41, 42, 430])\n",
    "x = [False, True, False, True]\n",
    "\n",
    "filtered_arr = arr[x]\n",
    "print(filtered_arr)"
   ]
  },
  {
   "cell_type": "code",
   "execution_count": 43,
   "metadata": {},
   "outputs": [
    {
     "name": "stdout",
     "output_type": "stream",
     "text": [
      "[1 2 3 4]\n",
      "[1 2 3 4]\n",
      "[1 2 3 4]\n",
      "[1 2 3 4]\n",
      "None\n"
     ]
    }
   ],
   "source": [
    "# copies vs views\n",
    "# when we work with Big data\n",
    "# 4 GB -> 8 GB\n",
    "# 11 GB -> 22 GB\n",
    "# use a view\n",
    "\n",
    "#copies a reference to the object\n",
    "\n",
    "arr = np.array([1, 2, 3, 4])\n",
    "print(arr)\n",
    "view = arr.view()\n",
    "copy = arr.copy()\n",
    "arr = np.array([1, 2, 3, 5])\n",
    "print(view)\n",
    "arr[0]= 15\n",
    "print(copy)\n",
    "print(view.base)\n",
    "print(copy.base)\n"
   ]
  },
  {
   "cell_type": "code",
   "execution_count": 45,
   "metadata": {},
   "outputs": [],
   "source": [
    "import time"
   ]
  },
  {
   "cell_type": "code",
   "execution_count": 46,
   "metadata": {},
   "outputs": [
    {
     "name": "stdout",
     "output_type": "stream",
     "text": [
      "0.19635677337646484\n"
     ]
    }
   ],
   "source": [
    "# use python list\n",
    "\n",
    "start = time.time()\n",
    "list = [i for i in range(1_000_000)]\n",
    "squared = [x**2 for x in list]\n",
    "stop = time.time()\n",
    "\n",
    "print(stop-start)"
   ]
  },
  {
   "cell_type": "code",
   "execution_count": 47,
   "metadata": {},
   "outputs": [
    {
     "name": "stdout",
     "output_type": "stream",
     "text": [
      "0.008728504180908203\n"
     ]
    }
   ],
   "source": [
    "start = time.time()\n",
    "arr = np.arange(1_000_000)\n",
    "squared = arr**2\n",
    "stop = time.time()\n",
    "\n",
    "print(stop-start)"
   ]
  }
 ],
 "metadata": {
  "kernelspec": {
   "display_name": ".venv",
   "language": "python",
   "name": "python3"
  },
  "language_info": {
   "codemirror_mode": {
    "name": "ipython",
    "version": 3
   },
   "file_extension": ".py",
   "mimetype": "text/x-python",
   "name": "python",
   "nbconvert_exporter": "python",
   "pygments_lexer": "ipython3",
   "version": "3.10.5"
  }
 },
 "nbformat": 4,
 "nbformat_minor": 2
}
