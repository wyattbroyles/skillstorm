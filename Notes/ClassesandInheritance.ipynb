{
 "cells": [
  {
   "cell_type": "code",
   "execution_count": 37,
   "metadata": {},
   "outputs": [],
   "source": [
    "# classes\n",
    "\n",
    "# everything in python is an object\n",
    "\n",
    "class Person:\n",
    "    population = 0\n",
    "    def __init__(self, name, age, **kwargs):  #dunder = double underscore method/dunder methods override the object default methods\n",
    "        self.name = name\n",
    "        self.age = age\n",
    "        Person.population += 1 #class level \n",
    "        \n",
    "    def __del__(self): \n",
    "        del self\n",
    "        Person.population -= 1\n",
    "        \n",
    "    def __str__(self):\n",
    "        return f\"{self.name} ({self.age})\"\n",
    "    \n",
    "    # def __repr__(self) -> str:\n",
    "        #return f\"{self.name} is {self.age}\"\n",
    "        \n",
    "    def __eq__(self, other):\n",
    "        if(type(other) == Person):\n",
    "            if (self.name == other.name) and (self.age == other.age):\n",
    "                return True\n",
    "            else:\n",
    "                return False\n",
    "        \n",
    "    def getAge(self):\n",
    "        return self.age\n",
    "        \n",
    "    @classmethod\n",
    "    def get_population(cls): #need a class in the arguments/cant access instance variables like name and age/can access \n",
    "        return cls.population\n",
    "        \n",
    "    @staticmethod #doesnt need class\n",
    "    def isAdult(x):\n",
    "        return x >= 18"
   ]
  },
  {
   "cell_type": "code",
   "execution_count": 27,
   "metadata": {},
   "outputs": [
    {
     "name": "stdout",
     "output_type": "stream",
     "text": [
      "0\n"
     ]
    }
   ],
   "source": [
    "print(Person.get_population())"
   ]
  },
  {
   "cell_type": "code",
   "execution_count": 38,
   "metadata": {},
   "outputs": [
    {
     "name": "stdout",
     "output_type": "stream",
     "text": [
      "0\n"
     ]
    }
   ],
   "source": [
    "john = Person('John', 23)\n",
    "john.getAge()\n",
    "\n",
    "print(Person.get_population())"
   ]
  },
  {
   "cell_type": "code",
   "execution_count": 29,
   "metadata": {},
   "outputs": [
    {
     "name": "stdout",
     "output_type": "stream",
     "text": [
      "0\n"
     ]
    }
   ],
   "source": [
    "del john #wont delete john without the _del method/otherwise, population doesnt change\n",
    "print(Person.get_population())"
   ]
  },
  {
   "cell_type": "code",
   "execution_count": 39,
   "metadata": {},
   "outputs": [],
   "source": [
    "john2 = Person('John', 23)"
   ]
  },
  {
   "cell_type": "code",
   "execution_count": 31,
   "metadata": {},
   "outputs": [
    {
     "name": "stdout",
     "output_type": "stream",
     "text": [
      "John 2 (13)\n"
     ]
    }
   ],
   "source": [
    "print(john2)"
   ]
  },
  {
   "cell_type": "code",
   "execution_count": 32,
   "metadata": {},
   "outputs": [
    {
     "data": {
      "text/plain": [
       "<__main__.Person at 0x188b0321090>"
      ]
     },
     "execution_count": 32,
     "metadata": {},
     "output_type": "execute_result"
    }
   ],
   "source": [
    "john2 #something we normally dont overwrite for the memory address\n",
    "# except for __rp"
   ]
  },
  {
   "cell_type": "code",
   "execution_count": 41,
   "metadata": {},
   "outputs": [
    {
     "name": "stdout",
     "output_type": "stream",
     "text": [
      "True\n"
     ]
    }
   ],
   "source": [
    "print(john == john2) "
   ]
  },
  {
   "cell_type": "code",
   "execution_count": 46,
   "metadata": {},
   "outputs": [],
   "source": [
    "class Circle:\n",
    "    _pi = 3.14 # simulates protected variables\n",
    "    __pi = 3.14 # simulates private variables"
   ]
  },
  {
   "cell_type": "code",
   "execution_count": 47,
   "metadata": {},
   "outputs": [
    {
     "name": "stdout",
     "output_type": "stream",
     "text": [
      "3.14\n"
     ]
    }
   ],
   "source": [
    "print(Circle._pi) # will print\n",
    "#print(Circle.__pi) # wont print"
   ]
  },
  {
   "cell_type": "code",
   "execution_count": 48,
   "metadata": {},
   "outputs": [
    {
     "data": {
      "text/plain": [
       "3.14"
      ]
     },
     "execution_count": 48,
     "metadata": {},
     "output_type": "execute_result"
    }
   ],
   "source": [
    "circle1 = Circle()\n",
    "circle1._Circle__pi"
   ]
  }
 ],
 "metadata": {
  "kernelspec": {
   "display_name": ".venv",
   "language": "python",
   "name": "python3"
  },
  "language_info": {
   "codemirror_mode": {
    "name": "ipython",
    "version": 3
   },
   "file_extension": ".py",
   "mimetype": "text/x-python",
   "name": "python",
   "nbconvert_exporter": "python",
   "pygments_lexer": "ipython3",
   "version": "3.10.5"
  }
 },
 "nbformat": 4,
 "nbformat_minor": 2
}
