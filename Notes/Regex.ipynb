{
 "cells": [
  {
   "cell_type": "code",
   "execution_count": 2,
   "metadata": {},
   "outputs": [],
   "source": [
    "#Regular Expression (RegEx)\n",
    "#powerful text pattern recognition\n",
    "\n",
    "import re"
   ]
  },
  {
   "cell_type": "code",
   "execution_count": 4,
   "metadata": {},
   "outputs": [
    {
     "name": "stdout",
     "output_type": "stream",
     "text": [
      "<re.Match object; span=(0, 21), match='elcome to Skillstorm!'>\n"
     ]
    }
   ],
   "source": [
    "# re methods\n",
    "# re.findall() this will return a list of match objects\n",
    "# re.search() this will return the first match\n",
    "# re.split() return a list where the string has been split at the match\n",
    "# re.sub() will replace any number of matches within our string\n",
    "\n",
    "string = \"elcome to Skillstorm!\"\n",
    "match = re.search(\"^Welcome.*storm!$\", string)\n",
    "match2 = re.search(r\"^[Ww]?\\w+ (T|t)o\", string)\n",
    "match3 = re.search(r\"^\\w+\\sto.[^0-9]\\D.*[.!?]$\", string)\n",
    "print(match3)"
   ]
  },
  {
   "cell_type": "code",
   "execution_count": 5,
   "metadata": {},
   "outputs": [
    {
     "name": "stdout",
     "output_type": "stream",
     "text": [
      "\u0007\n",
      "\\a\n"
     ]
    }
   ],
   "source": [
    "# Regex Operators \n",
    "# \\ is an escape character\n",
    "# We can use a raw string r\"string\"\n",
    "\n",
    "print(\"\\a\")\n",
    "print(r\"\\a\")\n",
    "\n",
    "# \\A or ^ matches the beginning of the string\n",
    "# \\b match characters at the beginning or end of a word\n",
    "# \\B match characters NOT at the beginning or end of a word\n",
    "# \\d matches a digit 0-9\n",
    "# \\D matches NOT a digit\n",
    "# \\s match a whitespace character\n",
    "# \\S match NOT a whitespace character\n",
    "# \\w matches a-z A-Z 0-9 _\n",
    "# \\W matches any non-word character\n",
    "# \\Z or $ matches at the end of the string\n",
    "\n",
    "#Meta characters\n",
    "# [] a set of characters [a-z]\n",
    "# . any ONE character\n",
    "# ^ when used inside [ ] it becomes NOT\n",
    "# $ ends with\n",
    "# * zero or more of\n",
    "# + one or more of\n",
    "# ? zero or one of\n",
    "# {n} n occurences of\n",
    "# |  Either or\n",
    "# () capture and group"
   ]
  },
  {
   "cell_type": "code",
   "execution_count": 6,
   "metadata": {},
   "outputs": [
    {
     "name": "stdout",
     "output_type": "stream",
     "text": [
      "['elcome', 'to', 'Skillstorm']\n",
      "['', 'e', 'l', 'c', 'o', 'm', 'e', ' ', 't', 'o', ' ', 'S', 'k', 'i', 'l', 'l', 's', 't', 'o', 'r', 'm', '!', '']\n",
      "['elcome', 'Skillstorm!']\n"
     ]
    }
   ],
   "source": [
    "word_list = re.findall(r\"\\w+\", string)\n",
    "print(word_list)\n",
    "\n",
    "split_list = re.split(\"\\d*\", string) #cuts out whatever is in \"\"\n",
    "print(split_list)\n",
    "\n",
    "split_list = re.split(r\" [a-zA-Z]{2} \", string) #cuts out whatever is in \"\"\n",
    "print(split_list)"
   ]
  },
  {
   "cell_type": "code",
   "execution_count": 7,
   "metadata": {},
   "outputs": [
    {
     "name": "stdout",
     "output_type": "stream",
     "text": [
      "elcome at Skillstorm!\n"
     ]
    }
   ],
   "source": [
    "new_string = re.sub(r\"\\b[a-zA-Z]{2}\\b\", \"at\", string)\n",
    "print(new_string)"
   ]
  }
 ],
 "metadata": {
  "kernelspec": {
   "display_name": "Python 3",
   "language": "python",
   "name": "python3"
  },
  "language_info": {
   "codemirror_mode": {
    "name": "ipython",
    "version": 3
   },
   "file_extension": ".py",
   "mimetype": "text/x-python",
   "name": "python",
   "nbconvert_exporter": "python",
   "pygments_lexer": "ipython3",
   "version": "3.10.5"
  }
 },
 "nbformat": 4,
 "nbformat_minor": 2
}
