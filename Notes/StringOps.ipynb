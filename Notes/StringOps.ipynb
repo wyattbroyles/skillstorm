{
 "cells": [
  {
   "cell_type": "code",
   "execution_count": null,
   "metadata": {},
   "outputs": [],
   "source": [
    "string = \"Hello World!\""
   ]
  },
  {
   "cell_type": "code",
   "execution_count": null,
   "metadata": {},
   "outputs": [],
   "source": [
    "for char in string:\n",
    "    if(char=='l'):\n",
    "        print(char) #.upper() or .title()\n",
    "        #.strip() gets rid of leading and trailing white space\n",
    "        #char.strip(\",,\")"
   ]
  },
  {
   "cell_type": "code",
   "execution_count": null,
   "metadata": {},
   "outputs": [],
   "source": [
    "print(string.split())"
   ]
  },
  {
   "cell_type": "code",
   "execution_count": null,
   "metadata": {},
   "outputs": [],
   "source": [
    "#Math on a string\n",
    "str1 = \"This\"\n",
    "str2 = \"string\"\n",
    "print(str1 + str2)"
   ]
  },
  {
   "cell_type": "code",
   "execution_count": null,
   "metadata": {},
   "outputs": [],
   "source": [
    "#Escape character\n",
    "print(\"there\\'s\")\n",
    "print('\\u265E') # UTF-8"
   ]
  },
  {
   "cell_type": "code",
   "execution_count": null,
   "metadata": {},
   "outputs": [],
   "source": [
    "#String formattting\n",
    "\n",
    "x = 10\n",
    "y = 100\n",
    "\n",
    "#x:.2f means round to 2 decimal places after period\n",
    "print(f\"{x:.2f} people will graduate with a {y} Grade\")"
   ]
  },
  {
   "cell_type": "code",
   "execution_count": null,
   "metadata": {},
   "outputs": [],
   "source": [
    "print(\".\" in \"dog.\") #will print true\n",
    "\n",
    "string3 = \"this string is getting replaced\"\n",
    "if('replaced' in string3):\n",
    "    string4 = string3.replace(\"replaced\", \"something new\")"
   ]
  }
 ],
 "metadata": {
  "language_info": {
   "name": "python"
  }
 },
 "nbformat": 4,
 "nbformat_minor": 2
}
