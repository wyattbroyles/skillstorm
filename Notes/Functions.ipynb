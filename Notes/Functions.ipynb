{
 "cells": [
  {
   "cell_type": "code",
   "execution_count": 1,
   "metadata": {},
   "outputs": [],
   "source": [
    "#Functions\n",
    "#Procedure that is repeatable\n",
    "# Takes inputs and can produce an output\n",
    "\n",
    "def calculate_area(length: int, width: int) -> int:\n",
    "    return length * width"
   ]
  },
  {
   "cell_type": "code",
   "execution_count": 2,
   "metadata": {},
   "outputs": [
    {
     "name": "stdout",
     "output_type": "stream",
     "text": [
      "30\n"
     ]
    }
   ],
   "source": [
    "print(calculate_area(5, 6))\n",
    "print(calculate_area(width=5, length=6))\n",
    "open(file = \"/...\", encoding = \"utf-8\")\n",
    "print(calculate_area())\n",
    "None"
   ]
  },
  {
   "cell_type": "code",
   "execution_count": null,
   "metadata": {},
   "outputs": [],
   "source": [
    "# Method Overriding - override a parents method\n",
    "\n",
    "class Shape:\n",
    "    def area(length,width):\n",
    "        return length * width\n",
    "    \n",
    "class Triangle(Shape):\n",
    "    def area(length,width,height):\n",
    "        return 0.5*height*length*width\n",
    "class Rectangle(Shape):\n",
    "    pass"
   ]
  },
  {
   "cell_type": "code",
   "execution_count": null,
   "metadata": {},
   "outputs": [],
   "source": [
    "# Method Overloading - is having two of the same methods with different arguments\n",
    "#method overloading is not supported in python as it will overwrite functions\n",
    "\n",
    "def method_1(x,y):\n",
    "    return x+y\n",
    "\n",
    "def method_1(x,y,z):\n",
    "    return x+y+z\n",
    "\n",
    "print(method_1(1,2))\n",
    "\n",
    "def method_2(x,y,z):\n",
    "    if(not z):\n",
    "        return x+y+z\n",
    "    return x+y\n",
    "\n"
   ]
  },
  {
   "cell_type": "code",
   "execution_count": 3,
   "metadata": {},
   "outputs": [
    {
     "name": "stdout",
     "output_type": "stream",
     "text": [
      "We still 2 from store\n"
     ]
    }
   ],
   "source": [
    "# if we dont know how many arguments will be passed in we use *args\n",
    "\n",
    "def shopping_list(*items):\n",
    "    print(f\"We still {len(items)} from store\")\n",
    "    \n",
    "shopping_list(\"fruit\", \"soda\")"
   ]
  },
  {
   "cell_type": "code",
   "execution_count": 5,
   "metadata": {},
   "outputs": [
    {
     "name": "stdout",
     "output_type": "stream",
     "text": [
      "{'food': 'fruit', 'drink': 'soda'}\n",
      "We still 2 from store\n"
     ]
    }
   ],
   "source": [
    "# we also have **Kwargs\n",
    "\n",
    "def shopping_list(**items):\n",
    "    print(items)\n",
    "    print(f\"We still {len(items)} from store\")\n",
    "    \n",
    "shopping_list(food = \"fruit\", drink = \"soda\")"
   ]
  },
  {
   "cell_type": "code",
   "execution_count": 8,
   "metadata": {},
   "outputs": [
    {
     "name": "stdout",
     "output_type": "stream",
     "text": [
      "[0, 1, 1, 2, 3, 5, 8, 13, 21, 34]\n"
     ]
    }
   ],
   "source": [
    "# recursive functions\n",
    "# move in the direction of your condition\n",
    "def fibonacci(n):\n",
    "    if(n <= 1):\n",
    "        return n\n",
    "    return fibonacci(n-1) + fibonacci(n-2)\n",
    "\n",
    "print([fibonacci(n) for n in range(10)])\n"
   ]
  },
  {
   "cell_type": "code",
   "execution_count": 9,
   "metadata": {},
   "outputs": [
    {
     "name": "stdout",
     "output_type": "stream",
     "text": [
      "[2, 4, 6, 8]\n"
     ]
    }
   ],
   "source": [
    "# lambda function\n",
    "# anonymous function\n",
    "\n",
    "numbers = [1, 2, 3, 4, 5, 6, 7, 8, 9]\n",
    "even_numbers = list(filter(lambda x: (x%2==0), numbers))\n",
    "print(even_numbers)"
   ]
  },
  {
   "cell_type": "code",
   "execution_count": 10,
   "metadata": {},
   "outputs": [
    {
     "name": "stdout",
     "output_type": "stream",
     "text": [
      "[1, 4, 9, 16, 25, 36, 49, 64, 81]\n"
     ]
    }
   ],
   "source": [
    "squares = list(map(lambda x: x**2, numbers))\n",
    "print(squares)"
   ]
  }
 ],
 "metadata": {
  "kernelspec": {
   "display_name": "Python 3",
   "language": "python",
   "name": "python3"
  },
  "language_info": {
   "codemirror_mode": {
    "name": "ipython",
    "version": 3
   },
   "file_extension": ".py",
   "mimetype": "text/x-python",
   "name": "python",
   "nbconvert_exporter": "python",
   "pygments_lexer": "ipython3",
   "version": "3.10.5"
  }
 },
 "nbformat": 4,
 "nbformat_minor": 2
}
