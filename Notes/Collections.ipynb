{
 "cells": [
  {
   "cell_type": "code",
   "execution_count": null,
   "metadata": {},
   "outputs": [],
   "source": [
    "#Types of Collections\n",
    "#Tuples, Lists, Dictionaries, Sets"
   ]
  },
  {
   "cell_type": "markdown",
   "metadata": {},
   "source": [
    "Lists: Ordered and mutable, can hold multiple different data types.\n",
    "Sets: Unordered and mutable, can hold multiple different data types but only unique elements.\n",
    "Dictionaries: Unordered and mutable, can hold multiple different data types for both keys and values.\n",
    "Tuples: Ordered and immutable, can hold multiple different data types."
   ]
  },
  {
   "cell_type": "code",
   "execution_count": null,
   "metadata": {},
   "outputs": [],
   "source": [
    "my_list = ['hey', 'there', 'bobby']\n",
    "print(my_list[0])\n",
    "print(my_list[0,2]) #first two names\n",
    "print(my_list[::-1]) #reverse list"
   ]
  },
  {
   "cell_type": "code",
   "execution_count": 1,
   "metadata": {},
   "outputs": [
    {
     "name": "stdout",
     "output_type": "stream",
     "text": [
      "[1, 2, 34, 4, 'hey']\n"
     ]
    }
   ],
   "source": [
    "my_list2 = [1, 2, 34, 4, \"hey\"]\n",
    "print(my_list2)"
   ]
  },
  {
   "cell_type": "code",
   "execution_count": 2,
   "metadata": {},
   "outputs": [
    {
     "name": "stdout",
     "output_type": "stream",
     "text": [
      "{1, 2, 3, 4, 'hey'}\n",
      "{'and', 'this'}\n"
     ]
    }
   ],
   "source": [
    "my_set = {1, 2, 3, 4, 4, \"hey\"} #NO DUPLICATES\n",
    "print(my_set)\n",
    "\n",
    "string1 = \"this and this and and this\"\n",
    "string_set = {}\n",
    "print(set(string1.split()))\n"
   ]
  },
  {
   "cell_type": "code",
   "execution_count": null,
   "metadata": {},
   "outputs": [],
   "source": [
    "#List methods\n",
    "another_list = []\n",
    "for i in range(10):\n",
    "    another_list.append(i) #append adds to the end of the list\n",
    "\n",
    "print(another_list)\n",
    "x= another_list.pop() # pop takes off the end of the list\n",
    "print(another_list, x)"
   ]
  },
  {
   "cell_type": "code",
   "execution_count": 4,
   "metadata": {},
   "outputs": [
    {
     "name": "stdout",
     "output_type": "stream",
     "text": [
      "[1, 2, 10, 4, 5]\n",
      "[1, 2, 4, 5]\n",
      "[1, 2, 10, 4, 5]\n",
      "True\n"
     ]
    }
   ],
   "source": [
    "list3 = [1, 2, 3, 4, 5]\n",
    "list3[2] = 10\n",
    "print(list3)\n",
    "\n",
    "list3.remove(10)\n",
    "print(list3)\n",
    "\n",
    "list3.insert(2, 10) # at index 2 insert 10\n",
    "print(list3)\n",
    "\n",
    "\n",
    "\n",
    "print(10 in list3)\n"
   ]
  },
  {
   "cell_type": "code",
   "execution_count": 7,
   "metadata": {},
   "outputs": [
    {
     "name": "stdout",
     "output_type": "stream",
     "text": [
      "[1, 2, 10, 4, 5, 11]\n"
     ]
    }
   ],
   "source": [
    "list3.append(11)\n",
    "print(list3)"
   ]
  },
  {
   "cell_type": "code",
   "execution_count": null,
   "metadata": {},
   "outputs": [],
   "source": [
    "list4 = [6, 7, 8, 9]\n",
    "print(list3 + list4)"
   ]
  },
  {
   "cell_type": "code",
   "execution_count": null,
   "metadata": {},
   "outputs": [],
   "source": [
    "for i in range(len(list3)):\n",
    "    print(i)\n",
    "\n",
    "for i, elem in enumerate(list3):\n",
    "    print(i, elem)"
   ]
  },
  {
   "cell_type": "code",
   "execution_count": null,
   "metadata": {},
   "outputs": [],
   "source": [
    "names = ['justin', 'aaron', 'alex']\n",
    "cap_names = [name.upper() for name in names]\n",
    "print(names)\n",
    "print(cap_names)\n",
    "\n",
    "e_names = [names for name in names if 'e' in name]\n",
    "print(e_names)"
   ]
  },
  {
   "cell_type": "code",
   "execution_count": null,
   "metadata": {},
   "outputs": [],
   "source": [
    "#Sorting\n",
    "list3.sort()\n",
    "print(list3)\n",
    "print(sorted(list3))\n",
    "\n",
    "list3.sort(reverse=True)\n",
    "print(list3)\n"
   ]
  },
  {
   "cell_type": "code",
   "execution_count": null,
   "metadata": {},
   "outputs": [],
   "source": [
    "#DICTIONARY\n",
    "\n",
    "dict1 = {\n",
    "    \"name\" : \"Justin\",\n",
    "    \"age\" : \"Classified\"\n",
    "}\n",
    "print(dict1)\n",
    "\n",
    "#Iterating through a  dictionary\n",
    "for k, v in dict1.itmes():\n",
    "    print(k, v)\n",
    "\n",
    "for key in dict1.keys():\n",
    "    print(key)\n",
    "\n",
    "for value in dict1.values():\n",
    "    print(value)"
   ]
  },
  {
   "cell_type": "code",
   "execution_count": null,
   "metadata": {},
   "outputs": [],
   "source": [
    "dict2 = {\n",
    "    \"Person1\":\n",
    "    {\n",
    "        \"name\" : \"Justin\",\n",
    "        \"age\" : \"na\"\n",
    "    },\n",
    "    \"Person2\":\n",
    "    {\n",
    "        \"name\" : \"steve\",\n",
    "        \"age\" : \"na\"\n",
    "    }\n",
    "}\n",
    "\n",
    "for k, v in dict2.items():\n",
    "    print(k, v)"
   ]
  },
  {
   "cell_type": "code",
   "execution_count": null,
   "metadata": {},
   "outputs": [],
   "source": [
    "dict2[\"Pearson\"][\"cloud\"] = \"azure\""
   ]
  },
  {
   "cell_type": "code",
   "execution_count": null,
   "metadata": {},
   "outputs": [],
   "source": [
    "#Tuples\n",
    "#are indexable and immutable\n",
    "#great for giving pairs of data (coordinates)\n",
    "\n",
    "my_tuple = (\"Justin\", \"lee\")\n",
    "print(my_tuple)\n",
    "\n",
    "my_tuple[0] = 15"
   ]
  }
 ],
 "metadata": {
  "kernelspec": {
   "display_name": ".venv",
   "language": "python",
   "name": "python3"
  },
  "language_info": {
   "codemirror_mode": {
    "name": "ipython",
    "version": 3
   },
   "file_extension": ".py",
   "mimetype": "text/x-python",
   "name": "python",
   "nbconvert_exporter": "python",
   "pygments_lexer": "ipython3",
   "version": "3.10.5"
  }
 },
 "nbformat": 4,
 "nbformat_minor": 2
}
