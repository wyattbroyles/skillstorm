{
 "cells": [
  {
   "cell_type": "code",
   "execution_count": 2,
   "metadata": {},
   "outputs": [
    {
     "name": "stdout",
     "output_type": "stream",
     "text": [
      "c:\\Users\\wyatt\\Documents\\SkillStorm\\skillstorm\\Notes\n"
     ]
    }
   ],
   "source": [
    "# We can interact directly with our Operating System through python\n",
    "import os\n",
    "\n",
    "cwd = os.getcwd() #gets current path\n",
    "print(cwd) "
   ]
  },
  {
   "cell_type": "code",
   "execution_count": 4,
   "metadata": {},
   "outputs": [
    {
     "ename": "FileNotFoundError",
     "evalue": "[WinError 3] The system cannot find the path specified: 'c:\\\\Users\\\\wyatt\\\\Documents\\\\SkillStorm\\\\skilltorm\\\\Test'",
     "output_type": "error",
     "traceback": [
      "\u001b[1;31m---------------------------------------------------------------------------\u001b[0m",
      "\u001b[1;31mFileNotFoundError\u001b[0m                         Traceback (most recent call last)",
      "Cell \u001b[1;32mIn[4], line 2\u001b[0m\n\u001b[0;32m      1\u001b[0m new_dir \u001b[38;5;241m=\u001b[39m \u001b[38;5;124m\"\u001b[39m\u001b[38;5;124mc:\u001b[39m\u001b[38;5;130;01m\\\\\u001b[39;00m\u001b[38;5;124mUsers\u001b[39m\u001b[38;5;130;01m\\\\\u001b[39;00m\u001b[38;5;124mwyatt\u001b[39m\u001b[38;5;130;01m\\\\\u001b[39;00m\u001b[38;5;124mDocuments\u001b[39m\u001b[38;5;130;01m\\\\\u001b[39;00m\u001b[38;5;124mSkillStorm\u001b[39m\u001b[38;5;130;01m\\\\\u001b[39;00m\u001b[38;5;124mskilltorm\u001b[39m\u001b[38;5;130;01m\\\\\u001b[39;00m\u001b[38;5;124mTest\u001b[39m\u001b[38;5;124m\"\u001b[39m\n\u001b[1;32m----> 2\u001b[0m \u001b[43mos\u001b[49m\u001b[38;5;241;43m.\u001b[39;49m\u001b[43mchdir\u001b[49m\u001b[43m(\u001b[49m\u001b[43mnew_dir\u001b[49m\u001b[43m)\u001b[49m\n\u001b[0;32m      4\u001b[0m cwd \u001b[38;5;241m=\u001b[39m os\u001b[38;5;241m.\u001b[39mgetcwd()\n\u001b[0;32m      5\u001b[0m \u001b[38;5;28mprint\u001b[39m(cwd)\n",
      "\u001b[1;31mFileNotFoundError\u001b[0m: [WinError 3] The system cannot find the path specified: 'c:\\\\Users\\\\wyatt\\\\Documents\\\\SkillStorm\\\\skilltorm\\\\Test'"
     ]
    }
   ],
   "source": [
    "new_dir = \"c:\\\\Users\\\\wyatt\\\\Documents\\\\SkillStorm\\\\skilltorm\\\\Test\"\n",
    "os.chdir(new_dir) # change working directory to new directory or sub directory\n",
    "\n",
    "cwd = os.getcwd()\n",
    "print(cwd)"
   ]
  },
  {
   "cell_type": "code",
   "execution_count": null,
   "metadata": {},
   "outputs": [],
   "source": [
    "# we can create new directories\n",
    "#cannot nest directories with mkdir\n",
    "base_path = \"c:\\\\\"\n",
    "new_dire = \"/demo\"\n",
    "\n",
    "os.mkdir(base_path + new_dire)\n",
    "\n",
    "example_dir = os.path.join(path_1, path_2) #will throw an error if base path is not found\n",
    "\n"
   ]
  },
  {
   "cell_type": "code",
   "execution_count": null,
   "metadata": {},
   "outputs": [],
   "source": [
    "# we can nest the directories if we ust the makedirs command\n",
    "\n",
    "os.makedirs(base + new)"
   ]
  },
  {
   "cell_type": "code",
   "execution_count": 2,
   "metadata": {},
   "outputs": [
    {
     "name": "stdout",
     "output_type": "stream",
     "text": [
      "['$Recycle.Bin', '$WinREAgent', '.GamingRoot', 'Documents and Settings', 'DumpStack.log.tmp', 'hiberfil.sys', 'MSI', 'mylog.log', 'OneDriveTemp', 'pagefile.sys', 'PerfLogs', 'Program Files', 'Program Files (x86)', 'ProgramData', 'Recovery', 'RHDSetup.log', 'swapfile.sys', 'System Volume Information', 'Users', 'Windows', 'XboxGames']\n"
     ]
    }
   ],
   "source": [
    "# if we need all of our directories in a list\n",
    "\n",
    "root = '/' # cd /\n",
    "dirs = os.listdir(root)\n",
    "print(dirs)"
   ]
  },
  {
   "cell_type": "code",
   "execution_count": null,
   "metadata": {},
   "outputs": [],
   "source": [
    "#can remove nested dirs as long as they are all empty\n",
    "os.rmdir()\n",
    "#remove files from folders\n",
    "os.remove(file_path)"
   ]
  },
  {
   "cell_type": "code",
   "execution_count": 3,
   "metadata": {},
   "outputs": [
    {
     "name": "stdout",
     "output_type": "stream",
     "text": [
      "c:\\Users\\wyatt\\Documents\\SkillStorm\\skillstorm\\Notes\n",
      "[]\n",
      "['Collections.ipynb', 'DateTime.ipynb', 'ErrorHandling.ipynb', 'FileOperations.ipynb', 'IntroToPython.ipynb', 'OS.ipynb', 'StringOps.ipynb']\n"
     ]
    }
   ],
   "source": [
    "# we can read multiple files and directories\n",
    "\n",
    "for root, dirs, files in os.walk(os.getcwd()):\n",
    "    print(root)\n",
    "    print(dirs)\n",
    "    print(files)"
   ]
  },
  {
   "cell_type": "code",
   "execution_count": null,
   "metadata": {},
   "outputs": [],
   "source": [
    "\n"
   ]
  },
  {
   "cell_type": "code",
   "execution_count": null,
   "metadata": {},
   "outputs": [],
   "source": []
  }
 ],
 "metadata": {
  "kernelspec": {
   "display_name": "Python 3",
   "language": "python",
   "name": "python3"
  },
  "language_info": {
   "codemirror_mode": {
    "name": "ipython",
    "version": 3
   },
   "file_extension": ".py",
   "mimetype": "text/x-python",
   "name": "python",
   "nbconvert_exporter": "python",
   "pygments_lexer": "ipython3",
   "version": "3.10.5"
  }
 },
 "nbformat": 4,
 "nbformat_minor": 2
}
