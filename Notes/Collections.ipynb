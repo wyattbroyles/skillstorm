{
 "cells": [
  {
   "cell_type": "code",
   "execution_count": null,
   "metadata": {},
   "outputs": [],
   "source": [
    "#Types of Collections\n",
    "#Tuples, Lists, Dictionaries, Sets"
   ]
  },
  {
   "cell_type": "code",
   "execution_count": null,
   "metadata": {},
   "outputs": [],
   "source": [
    "my_list = ['hey', 'there', 'bobby']\n",
    "print(my_list[0])\n",
    "print(my_list[0,2]) #first two names\n",
    "print(my_list[::-1]) #reverse list"
   ]
  },
  {
   "cell_type": "code",
   "execution_count": null,
   "metadata": {},
   "outputs": [],
   "source": [
    "my_set = {1, 2, 3, 4, 4} #NO DUPLICATES\n",
    "print(my_set)\n",
    "\n",
    "string1 = \"this and this and and this\"\n",
    "string_set = {}\n",
    "print(set(string1.split()))\n"
   ]
  },
  {
   "cell_type": "code",
   "execution_count": null,
   "metadata": {},
   "outputs": [],
   "source": [
    "#List methods\n",
    "another_list = []\n",
    "for i in range(10):\n",
    "    another_list.append(i) #append adds to the end of the list\n",
    "\n",
    "print(another_list)\n",
    "x= another_list.pop() # pop takes off the end of the list\n",
    "print(another_list, x)"
   ]
  },
  {
   "cell_type": "code",
   "execution_count": null,
   "metadata": {},
   "outputs": [],
   "source": [
    "list3 = [1, 2, 3, 4, 5]\n",
    "list3[2] = 10\n",
    "print(list3)\n",
    "\n",
    "list3.remove(10)\n",
    "print(list3)\n",
    "\n",
    "list3.insert(2, 10) # at index 2 insert 10\n",
    "print(list3)\n",
    "\n",
    "print(10 in list3)\n"
   ]
  },
  {
   "cell_type": "code",
   "execution_count": null,
   "metadata": {},
   "outputs": [],
   "source": [
    "list4 = [6, 7, 8, 9]\n",
    "print(list3 + list4)"
   ]
  },
  {
   "cell_type": "code",
   "execution_count": null,
   "metadata": {},
   "outputs": [],
   "source": [
    "for i in range(len(list3)):\n",
    "    print(i)\n",
    "\n",
    "for i, elem in enumerate(list3):\n",
    "    print(i, elem)"
   ]
  },
  {
   "cell_type": "code",
   "execution_count": null,
   "metadata": {},
   "outputs": [],
   "source": [
    "names = ['justin', 'aaron', 'alex']\n",
    "cap_names = [name.upper() for name in names]\n",
    "print(names)\n",
    "print(cap_names)\n",
    "\n",
    "e_names = [names for name in names if 'e' in name]\n",
    "print(e_names)"
   ]
  },
  {
   "cell_type": "code",
   "execution_count": null,
   "metadata": {},
   "outputs": [],
   "source": [
    "#Sorting\n",
    "list3.sort()\n",
    "print(list3)\n",
    "print(sorted(list3))\n",
    "\n",
    "list3.sort(reverse=True)\n",
    "print(list3)\n"
   ]
  },
  {
   "cell_type": "code",
   "execution_count": null,
   "metadata": {},
   "outputs": [],
   "source": [
    "#DICTIONARY\n",
    "\n",
    "dict1 = {\n",
    "    \"name\" : \"Justin\",\n",
    "    \"age\" : \"Classified\"\n",
    "}\n",
    "print(dict1)\n",
    "\n",
    "#Iterating through a  dictionary\n",
    "for k, v in dict1.itmes():\n",
    "    print(k, v)\n",
    "\n",
    "for key in dict1.keys():\n",
    "    print(key)\n",
    "\n",
    "for value in dict1.values():\n",
    "    print(value)"
   ]
  },
  {
   "cell_type": "code",
   "execution_count": null,
   "metadata": {},
   "outputs": [],
   "source": [
    "dict2 = {\n",
    "    \"Person1\":\n",
    "    {\n",
    "        \"name\" : \"Justin\",\n",
    "        \"age\" : \"na\"\n",
    "    },\n",
    "    \"Person2\":\n",
    "    {\n",
    "        \"name\" : \"steve\",\n",
    "        \"age\" : \"na\"\n",
    "    }\n",
    "}\n",
    "\n",
    "for k, v in dict2.items():\n",
    "    print(k, v)"
   ]
  },
  {
   "cell_type": "code",
   "execution_count": null,
   "metadata": {},
   "outputs": [],
   "source": [
    "dict2[\"Pearson\"][\"cloud\"] = \"azure\""
   ]
  },
  {
   "cell_type": "code",
   "execution_count": null,
   "metadata": {},
   "outputs": [],
   "source": [
    "#Tuples\n",
    "#are indexable and immutable\n",
    "#great for giving pairs of data (coordinates)\n",
    "\n",
    "my_tuple = (\"Justin\", \"lee\")\n",
    "print(my_tuple)\n",
    "\n",
    "my_tuple[0] = 15"
   ]
  }
 ],
 "metadata": {
  "language_info": {
   "name": "python"
  }
 },
 "nbformat": 4,
 "nbformat_minor": 2
}
