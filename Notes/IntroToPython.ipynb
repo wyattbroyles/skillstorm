{
 "cells": [
  {
   "cell_type": "code",
   "execution_count": 2,
   "metadata": {},
   "outputs": [
    {
     "name": "stdout",
     "output_type": "stream",
     "text": [
      "This is a string\n",
      "Im in a variable\n",
      "H\n"
     ]
    }
   ],
   "source": [
    "# Int, String, Float, Boolean, Char, Complex\n",
    "# in python, float = double as far as decimal precision\n",
    "#float, int, and complex are the only commonnumeric types\n",
    "\n",
    "x = \"Hey\"\n",
    "y = 'String 2'\n",
    "string_var = \"Im in a variable\"\n",
    "print(\"This is a string\")\n",
    "print(string_var)\n",
    "\n",
    "string_var1 = \"\"\"\n",
    "hey\n",
    "hey\n",
    "\"\"\"\n",
    "x = int(5)\n",
    "string = \"hello\"\n",
    "y = float(2.8)\n",
    "\n",
    "x = \"Hello\"[0]\n",
    "print(x)\n",
    "x.repl\n",
    "\n"
   ]
  },
  {
   "cell_type": "code",
   "execution_count": null,
   "metadata": {},
   "outputs": [],
   "source": [
    "int_var = 4\n",
    "float_var = 4.521\n",
    "complex_var = 3 + 3j\n",
    "\n",
    "print(int_var + float_var) #will cast int to float"
   ]
  },
  {
   "cell_type": "code",
   "execution_count": null,
   "metadata": {},
   "outputs": [],
   "source": [
    "x = 20\n",
    "y = 20\n",
    "\n",
    "print(x+y)\n",
    "print(x**y) # power to\n",
    "print(x % y)"
   ]
  },
  {
   "cell_type": "code",
   "execution_count": null,
   "metadata": {},
   "outputs": [],
   "source": [
    "x = 38473883\n",
    "\n",
    "if(x%2 == 0):\n",
    "    print(\"even\")\n",
    "\n",
    "else: \n",
    "    print(\"odd\")"
   ]
  },
  {
   "cell_type": "code",
   "execution_count": null,
   "metadata": {},
   "outputs": [],
   "source": [
    "#COLLECTIONS\n",
    "#List, Dictionary, Set, Trees, Tuple"
   ]
  },
  {
   "cell_type": "code",
   "execution_count": null,
   "metadata": {},
   "outputs": [],
   "source": [
    "#Casting variables\n",
    "x = int(2.8) #will always round down\n",
    "print(type(x))\n"
   ]
  },
  {
   "cell_type": "code",
   "execution_count": null,
   "metadata": {},
   "outputs": [],
   "source": [
    "#CLASS\n",
    "class Animal:\n",
    "    def __init__(self, age, name):\n",
    "        age = 0\n",
    "        name = \"Default\"\n",
    "\n",
    "    if __name__ == \"__main__\":\n"
   ]
  },
  {
   "cell_type": "code",
   "execution_count": 3,
   "metadata": {},
   "outputs": [
    {
     "ename": "TypeError",
     "evalue": "'>' not supported between instances of 'str' and 'float'",
     "output_type": "error",
     "traceback": [
      "\u001b[1;31m---------------------------------------------------------------------------\u001b[0m",
      "\u001b[1;31mTypeError\u001b[0m                                 Traceback (most recent call last)",
      "Cell \u001b[1;32mIn[3], line 1\u001b[0m\n\u001b[1;32m----> 1\u001b[0m \u001b[38;5;28;01mwhile\u001b[39;00m (\u001b[43mx\u001b[49m\u001b[38;5;241;43m>\u001b[39;49m\u001b[43my\u001b[49m):\n\u001b[0;32m      2\u001b[0m     \u001b[38;5;28mprint\u001b[39m(x)\n",
      "\u001b[1;31mTypeError\u001b[0m: '>' not supported between instances of 'str' and 'float'"
     ]
    }
   ],
   "source": [
    "while x>x+=x:\n",
    "    print(x)\n",
    "    \n",
    "    "
   ]
  }
 ],
 "metadata": {
  "kernelspec": {
   "display_name": ".venv",
   "language": "python",
   "name": "python3"
  },
  "language_info": {
   "codemirror_mode": {
    "name": "ipython",
    "version": 3
   },
   "file_extension": ".py",
   "mimetype": "text/x-python",
   "name": "python",
   "nbconvert_exporter": "python",
   "pygments_lexer": "ipython3",
   "version": "3.10.5"
  }
 },
 "nbformat": 4,
 "nbformat_minor": 2
}
